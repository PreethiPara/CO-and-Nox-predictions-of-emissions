{
  "nbformat": 4,
  "nbformat_minor": 0,
  "metadata": {
    "colab": {
      "provenance": [],
      "mount_file_id": "1SZnb0Y7iDqVzJl3N43vo_YU-cxwjv4gr",
      "authorship_tag": "ABX9TyOB13IDqys/VeQpPOgnedoh",
      "include_colab_link": true
    },
    "kernelspec": {
      "name": "python3",
      "display_name": "Python 3"
    },
    "language_info": {
      "name": "python"
    }
  },
  "cells": [
    {
      "cell_type": "markdown",
      "metadata": {
        "id": "view-in-github",
        "colab_type": "text"
      },
      "source": [
        "<a href=\"https://colab.research.google.com/github/PreethiPara/CO-and-Nox-predictions-of-emissions/blob/main/Co_and_Nox_prediction.ipynb\" target=\"_parent\"><img src=\"https://colab.research.google.com/assets/colab-badge.svg\" alt=\"Open In Colab\"/></a>"
      ]
    },
    {
      "cell_type": "markdown",
      "source": [
        "## AT: Ambient Temperature\n"
      ],
      "metadata": {
        "id": "JSM4cEJ2dw9i"
      }
    },
    {
      "cell_type": "code",
      "execution_count": null,
      "metadata": {
        "id": "DfH0yTrDcdq_"
      },
      "outputs": [],
      "source": [
        "import numpy as np\n",
        "import pandas as pd\n",
        "import matplotlib.pyplot as plt\n",
        "import seaborn as sns\n",
        "from sklearn.model_selection import train_test_split"
      ]
    },
    {
      "cell_type": "code",
      "source": [
        "df=pd.read_csv('/content/drive/My Drive/gt_2011.csv')\n",
        "df.head()"
      ],
      "metadata": {
        "colab": {
          "base_uri": "https://localhost:8080/",
          "height": 206
        },
        "id": "yfRLl3iSdlCC",
        "outputId": "4a978dbc-c41f-4087-ddc4-d21b12b6afa0"
      },
      "execution_count": null,
      "outputs": [
        {
          "output_type": "execute_result",
          "data": {
            "text/html": [
              "\n",
              "  <div id=\"df-1331d10c-02e6-461d-9ee1-8fd337516ad9\">\n",
              "    <div class=\"colab-df-container\">\n",
              "      <div>\n",
              "<style scoped>\n",
              "    .dataframe tbody tr th:only-of-type {\n",
              "        vertical-align: middle;\n",
              "    }\n",
              "\n",
              "    .dataframe tbody tr th {\n",
              "        vertical-align: top;\n",
              "    }\n",
              "\n",
              "    .dataframe thead th {\n",
              "        text-align: right;\n",
              "    }\n",
              "</style>\n",
              "<table border=\"1\" class=\"dataframe\">\n",
              "  <thead>\n",
              "    <tr style=\"text-align: right;\">\n",
              "      <th></th>\n",
              "      <th>AT</th>\n",
              "      <th>AP</th>\n",
              "      <th>AH</th>\n",
              "      <th>AFDP</th>\n",
              "      <th>GTEP</th>\n",
              "      <th>TIT</th>\n",
              "      <th>TAT</th>\n",
              "      <th>TEY</th>\n",
              "      <th>CDP</th>\n",
              "      <th>CO</th>\n",
              "      <th>NOX</th>\n",
              "    </tr>\n",
              "  </thead>\n",
              "  <tbody>\n",
              "    <tr>\n",
              "      <th>0</th>\n",
              "      <td>4.5878</td>\n",
              "      <td>1018.7</td>\n",
              "      <td>83.675</td>\n",
              "      <td>3.5758</td>\n",
              "      <td>23.979</td>\n",
              "      <td>1086.2</td>\n",
              "      <td>549.83</td>\n",
              "      <td>134.67</td>\n",
              "      <td>11.898</td>\n",
              "      <td>0.32663</td>\n",
              "      <td>81.952</td>\n",
              "    </tr>\n",
              "    <tr>\n",
              "      <th>1</th>\n",
              "      <td>4.2932</td>\n",
              "      <td>1018.3</td>\n",
              "      <td>84.235</td>\n",
              "      <td>3.5709</td>\n",
              "      <td>23.951</td>\n",
              "      <td>1086.1</td>\n",
              "      <td>550.05</td>\n",
              "      <td>134.67</td>\n",
              "      <td>11.892</td>\n",
              "      <td>0.44784</td>\n",
              "      <td>82.377</td>\n",
              "    </tr>\n",
              "    <tr>\n",
              "      <th>2</th>\n",
              "      <td>3.9045</td>\n",
              "      <td>1018.4</td>\n",
              "      <td>84.858</td>\n",
              "      <td>3.5828</td>\n",
              "      <td>23.990</td>\n",
              "      <td>1086.5</td>\n",
              "      <td>550.19</td>\n",
              "      <td>135.10</td>\n",
              "      <td>12.042</td>\n",
              "      <td>0.45144</td>\n",
              "      <td>83.776</td>\n",
              "    </tr>\n",
              "    <tr>\n",
              "      <th>3</th>\n",
              "      <td>3.7436</td>\n",
              "      <td>1018.3</td>\n",
              "      <td>85.434</td>\n",
              "      <td>3.5808</td>\n",
              "      <td>23.911</td>\n",
              "      <td>1086.5</td>\n",
              "      <td>550.17</td>\n",
              "      <td>135.03</td>\n",
              "      <td>11.990</td>\n",
              "      <td>0.23107</td>\n",
              "      <td>82.505</td>\n",
              "    </tr>\n",
              "    <tr>\n",
              "      <th>4</th>\n",
              "      <td>3.7516</td>\n",
              "      <td>1017.8</td>\n",
              "      <td>85.182</td>\n",
              "      <td>3.5781</td>\n",
              "      <td>23.917</td>\n",
              "      <td>1085.9</td>\n",
              "      <td>550.00</td>\n",
              "      <td>134.67</td>\n",
              "      <td>11.910</td>\n",
              "      <td>0.26747</td>\n",
              "      <td>82.028</td>\n",
              "    </tr>\n",
              "  </tbody>\n",
              "</table>\n",
              "</div>\n",
              "      <button class=\"colab-df-convert\" onclick=\"convertToInteractive('df-1331d10c-02e6-461d-9ee1-8fd337516ad9')\"\n",
              "              title=\"Convert this dataframe to an interactive table.\"\n",
              "              style=\"display:none;\">\n",
              "        \n",
              "  <svg xmlns=\"http://www.w3.org/2000/svg\" height=\"24px\"viewBox=\"0 0 24 24\"\n",
              "       width=\"24px\">\n",
              "    <path d=\"M0 0h24v24H0V0z\" fill=\"none\"/>\n",
              "    <path d=\"M18.56 5.44l.94 2.06.94-2.06 2.06-.94-2.06-.94-.94-2.06-.94 2.06-2.06.94zm-11 1L8.5 8.5l.94-2.06 2.06-.94-2.06-.94L8.5 2.5l-.94 2.06-2.06.94zm10 10l.94 2.06.94-2.06 2.06-.94-2.06-.94-.94-2.06-.94 2.06-2.06.94z\"/><path d=\"M17.41 7.96l-1.37-1.37c-.4-.4-.92-.59-1.43-.59-.52 0-1.04.2-1.43.59L10.3 9.45l-7.72 7.72c-.78.78-.78 2.05 0 2.83L4 21.41c.39.39.9.59 1.41.59.51 0 1.02-.2 1.41-.59l7.78-7.78 2.81-2.81c.8-.78.8-2.07 0-2.86zM5.41 20L4 18.59l7.72-7.72 1.47 1.35L5.41 20z\"/>\n",
              "  </svg>\n",
              "      </button>\n",
              "      \n",
              "  <style>\n",
              "    .colab-df-container {\n",
              "      display:flex;\n",
              "      flex-wrap:wrap;\n",
              "      gap: 12px;\n",
              "    }\n",
              "\n",
              "    .colab-df-convert {\n",
              "      background-color: #E8F0FE;\n",
              "      border: none;\n",
              "      border-radius: 50%;\n",
              "      cursor: pointer;\n",
              "      display: none;\n",
              "      fill: #1967D2;\n",
              "      height: 32px;\n",
              "      padding: 0 0 0 0;\n",
              "      width: 32px;\n",
              "    }\n",
              "\n",
              "    .colab-df-convert:hover {\n",
              "      background-color: #E2EBFA;\n",
              "      box-shadow: 0px 1px 2px rgba(60, 64, 67, 0.3), 0px 1px 3px 1px rgba(60, 64, 67, 0.15);\n",
              "      fill: #174EA6;\n",
              "    }\n",
              "\n",
              "    [theme=dark] .colab-df-convert {\n",
              "      background-color: #3B4455;\n",
              "      fill: #D2E3FC;\n",
              "    }\n",
              "\n",
              "    [theme=dark] .colab-df-convert:hover {\n",
              "      background-color: #434B5C;\n",
              "      box-shadow: 0px 1px 3px 1px rgba(0, 0, 0, 0.15);\n",
              "      filter: drop-shadow(0px 1px 2px rgba(0, 0, 0, 0.3));\n",
              "      fill: #FFFFFF;\n",
              "    }\n",
              "  </style>\n",
              "\n",
              "      <script>\n",
              "        const buttonEl =\n",
              "          document.querySelector('#df-1331d10c-02e6-461d-9ee1-8fd337516ad9 button.colab-df-convert');\n",
              "        buttonEl.style.display =\n",
              "          google.colab.kernel.accessAllowed ? 'block' : 'none';\n",
              "\n",
              "        async function convertToInteractive(key) {\n",
              "          const element = document.querySelector('#df-1331d10c-02e6-461d-9ee1-8fd337516ad9');\n",
              "          const dataTable =\n",
              "            await google.colab.kernel.invokeFunction('convertToInteractive',\n",
              "                                                     [key], {});\n",
              "          if (!dataTable) return;\n",
              "\n",
              "          const docLinkHtml = 'Like what you see? Visit the ' +\n",
              "            '<a target=\"_blank\" href=https://colab.research.google.com/notebooks/data_table.ipynb>data table notebook</a>'\n",
              "            + ' to learn more about interactive tables.';\n",
              "          element.innerHTML = '';\n",
              "          dataTable['output_type'] = 'display_data';\n",
              "          await google.colab.output.renderOutput(dataTable, element);\n",
              "          const docLink = document.createElement('div');\n",
              "          docLink.innerHTML = docLinkHtml;\n",
              "          element.appendChild(docLink);\n",
              "        }\n",
              "      </script>\n",
              "    </div>\n",
              "  </div>\n",
              "  "
            ],
            "text/plain": [
              "       AT      AP      AH    AFDP  ...     TEY     CDP       CO     NOX\n",
              "0  4.5878  1018.7  83.675  3.5758  ...  134.67  11.898  0.32663  81.952\n",
              "1  4.2932  1018.3  84.235  3.5709  ...  134.67  11.892  0.44784  82.377\n",
              "2  3.9045  1018.4  84.858  3.5828  ...  135.10  12.042  0.45144  83.776\n",
              "3  3.7436  1018.3  85.434  3.5808  ...  135.03  11.990  0.23107  82.505\n",
              "4  3.7516  1017.8  85.182  3.5781  ...  134.67  11.910  0.26747  82.028\n",
              "\n",
              "[5 rows x 11 columns]"
            ]
          },
          "metadata": {},
          "execution_count": 118
        }
      ]
    },
    {
      "cell_type": "code",
      "source": [
        "df.shape"
      ],
      "metadata": {
        "colab": {
          "base_uri": "https://localhost:8080/"
        },
        "id": "J8fA3AOQdtRL",
        "outputId": "2b2ada13-ca19-4c39-eae5-6a5836a07bdc"
      },
      "execution_count": null,
      "outputs": [
        {
          "output_type": "execute_result",
          "data": {
            "text/plain": [
              "(36733, 11)"
            ]
          },
          "metadata": {},
          "execution_count": 119
        }
      ]
    },
    {
      "cell_type": "code",
      "source": [
        "df.isnull().sum()"
      ],
      "metadata": {
        "colab": {
          "base_uri": "https://localhost:8080/"
        },
        "id": "_6HQ-BP7eXpF",
        "outputId": "efad2384-9ed3-43ba-a953-00b82567459a"
      },
      "execution_count": null,
      "outputs": [
        {
          "output_type": "execute_result",
          "data": {
            "text/plain": [
              "AT      0\n",
              "AP      0\n",
              "AH      0\n",
              "AFDP    0\n",
              "GTEP    0\n",
              "TIT     0\n",
              "TAT     0\n",
              "TEY     0\n",
              "CDP     0\n",
              "CO      0\n",
              "NOX     0\n",
              "dtype: int64"
            ]
          },
          "metadata": {},
          "execution_count": 120
        }
      ]
    },
    {
      "cell_type": "code",
      "source": [
        "df.hist(bins=10,figsize=(16,12))"
      ],
      "metadata": {
        "colab": {
          "base_uri": "https://localhost:8080/",
          "height": 941
        },
        "id": "kOhbwLt2ealE",
        "outputId": "101e1de7-391d-46be-9b05-80e357ce57c0"
      },
      "execution_count": null,
      "outputs": [
        {
          "output_type": "execute_result",
          "data": {
            "text/plain": [
              "array([[<matplotlib.axes._subplots.AxesSubplot object at 0x7ff144ee4f50>,\n",
              "        <matplotlib.axes._subplots.AxesSubplot object at 0x7ff144fd8550>,\n",
              "        <matplotlib.axes._subplots.AxesSubplot object at 0x7ff144e4aad0>],\n",
              "       [<matplotlib.axes._subplots.AxesSubplot object at 0x7ff144e76b10>,\n",
              "        <matplotlib.axes._subplots.AxesSubplot object at 0x7ff144dc3510>,\n",
              "        <matplotlib.axes._subplots.AxesSubplot object at 0x7ff144df9a10>],\n",
              "       [<matplotlib.axes._subplots.AxesSubplot object at 0x7ff144daef50>,\n",
              "        <matplotlib.axes._subplots.AxesSubplot object at 0x7ff144d71390>,\n",
              "        <matplotlib.axes._subplots.AxesSubplot object at 0x7ff144d713d0>],\n",
              "       [<matplotlib.axes._subplots.AxesSubplot object at 0x7ff144d259d0>,\n",
              "        <matplotlib.axes._subplots.AxesSubplot object at 0x7ff14a0e0b50>,\n",
              "        <matplotlib.axes._subplots.AxesSubplot object at 0x7ff14a0e9450>]],\n",
              "      dtype=object)"
            ]
          },
          "metadata": {},
          "execution_count": 121
        },
        {
          "output_type": "display_data",
          "data": {
            "image/png": "[encoded data removed]",
            "text/plain": [
              "<Figure size 1152x864 with 12 Axes>"
            ]
          },
          "metadata": {
            "needs_background": "light"
          }
        }
      ]
    },
    {
      "cell_type": "code",
      "source": [
        "plt.figure(figsize=(16,12))\n",
        "sns.heatmap(df.corr(),annot=True)"
      ],
      "metadata": {
        "colab": {
          "base_uri": "https://localhost:8080/",
          "height": 721
        },
        "id": "yXZl4oPOe7GA",
        "outputId": "ccabb61f-1c59-44a6-89d8-4649f570c7e2"
      },
      "execution_count": null,
      "outputs": [
        {
          "output_type": "execute_result",
          "data": {
            "text/plain": [
              "<matplotlib.axes._subplots.AxesSubplot at 0x7ff146ef0910>"
            ]
          },
          "metadata": {},
          "execution_count": 122
        },
        {
          "output_type": "display_data",
          "data": {
            "image/png": "[encoded data removed]",
            "text/plain": [
              "<Figure size 1152x864 with 2 Axes>"
            ]
          },
          "metadata": {
            "needs_background": "light"
          }
        }
      ]
    },
    {
      "cell_type": "code",
      "source": [
        "x=df.drop(['CO','NOX'],axis=1)\n",
        "from sklearn.preprocessing import StandardScaler\n",
        "scaler=StandardScaler()\n",
        "x=scaler.fit_transform(x)\n",
        "y=df.drop(['AT','AP','AH','AFDP','GTEP','TIT','TAT','TEY','CDP'],axis=1)\n",
        "print(x)\n",
        "print(y)\n"
      ],
      "metadata": {
        "colab": {
          "base_uri": "https://localhost:8080/"
        },
        "id": "3EImpqUqfY-C",
        "outputId": "0ae7be11-3607-4964-b31a-48923aed4507"
      },
      "execution_count": null,
      "outputs": [
        {
          "output_type": "stream",
          "name": "stdout",
          "text": [
            "[[-1.76236198  0.87105219  0.40162651 ...  0.53658863  0.07450154\n",
            "  -0.14927265]\n",
            " [-1.80191968  0.8091639   0.44035094 ...  0.56874172  0.07450154\n",
            "  -0.1547834 ]\n",
            " [-1.85411274  0.82463597  0.48343186 ...  0.58920277  0.10203313\n",
            "  -0.01701458]\n",
            " ...\n",
            " [-1.64229242  2.38731536  1.19990283 ... -0.39146631 -1.64526249\n",
            "  -1.46817947]\n",
            " [-1.58835377  2.4182595   1.12943821 ...  0.57751074 -0.13422633\n",
            "  -0.26591691]\n",
            " [-1.56747386  2.43373158  1.15343352 ...  0.30274802 -0.51838807\n",
            "  -0.54972068]]\n",
            "             CO      NOX\n",
            "0       0.32663   81.952\n",
            "1       0.44784   82.377\n",
            "2       0.45144   83.776\n",
            "3       0.23107   82.505\n",
            "4       0.26747   82.028\n",
            "...         ...      ...\n",
            "36728  10.99300   89.172\n",
            "36729  11.14400   88.849\n",
            "36730  11.41400   96.147\n",
            "36731   3.31340   64.738\n",
            "36732  11.98100  109.240\n",
            "\n",
            "[36733 rows x 2 columns]\n"
          ]
        }
      ]
    },
    {
      "cell_type": "code",
      "source": [
        "x_train,x_test,y_train,y_test=train_test_split(x,y,random_state=0,test_size=0.2)"
      ],
      "metadata": {
        "id": "hhp33ajWgk1K"
      },
      "execution_count": null,
      "outputs": []
    },
    {
      "cell_type": "code",
      "source": [
        "from sklearn import linear_model\n",
        "reg=linear_model.LinearRegression()\n",
        "reg.fit(x_train,y_train)"
      ],
      "metadata": {
        "colab": {
          "base_uri": "https://localhost:8080/"
        },
        "id": "a8q-tcxhgWwr",
        "outputId": "109b1a05-c14f-4860-aa15-caaa1c018b8c"
      },
      "execution_count": null,
      "outputs": [
        {
          "output_type": "execute_result",
          "data": {
            "text/plain": [
              "LinearRegression()"
            ]
          },
          "metadata": {},
          "execution_count": 125
        }
      ]
    },
    {
      "cell_type": "code",
      "source": [
        "from sklearn.metrics import r2_score,mean_absolute_error,mean_squared_error\n",
        "pred=reg.predict(x_test)\n",
        "print(pred)\n",
        "acc=r2_score(y_test,pred)\n",
        "a=100*acc\n",
        "print(acc)"
      ],
      "metadata": {
        "colab": {
          "base_uri": "https://localhost:8080/"
        },
        "id": "pgfvSecVg6Hr",
        "outputId": "c052055e-90b7-4f46-a009-6dacff8fe165"
      },
      "execution_count": null,
      "outputs": [
        {
          "output_type": "stream",
          "name": "stdout",
          "text": [
            "[[ 2.53984892 52.79026973]\n",
            " [ 3.78336238 69.57927784]\n",
            " [ 0.82857155 55.30079599]\n",
            " ...\n",
            " [ 1.67261155 68.49425634]\n",
            " [ 1.21967179 59.77585345]\n",
            " [ 1.05068641 52.64258099]]\n",
            "0.5408844895099064\n"
          ]
        }
      ]
    },
    {
      "cell_type": "code",
      "source": [
        "input=(3.9045,\t1018.4\t,84.858,\t3.5828,\t23.990,\t1086.5,\t550.19,\t135.10,\t12.042)\n",
        "input=np.asarray(input).reshape(1,-1)\n",
        "input=scaler.transform(input)\n",
        "print(input)\n",
        "reg.predict(input)"
      ],
      "metadata": {
        "colab": {
          "base_uri": "https://localhost:8080/"
        },
        "id": "gjw29BJkiD2k",
        "outputId": "2597e9a1-8629-4ece-8f0d-a4c92a1305db"
      },
      "execution_count": null,
      "outputs": [
        {
          "output_type": "stream",
          "name": "stdout",
          "text": [
            "[[-1.85411274  0.82463597  0.48343186 -0.44283062 -0.37508073  0.28922659\n",
            "   0.58920277  0.10203313 -0.01701458]]\n"
          ]
        },
        {
          "output_type": "stream",
          "name": "stderr",
          "text": [
            "/usr/local/lib/python3.7/dist-packages/sklearn/base.py:446: UserWarning: X does not have valid feature names, but StandardScaler was fitted with feature names\n",
            "  \"X does not have valid feature names, but\"\n"
          ]
        },
        {
          "output_type": "execute_result",
          "data": {
            "text/plain": [
              "array([[ 1.83564794, 84.59004171]])"
            ]
          },
          "metadata": {},
          "execution_count": 127
        }
      ]
    },
    {
      "cell_type": "code",
      "source": [
        "from sklearn.preprocessing import PolynomialFeatures\n",
        "from sklearn.linear_model import LinearRegression\n",
        "poly = PolynomialFeatures(degree = 4)\n",
        "x_poly = poly.fit_transform(x_test)\n",
        "poly.fit(x_poly, y_test)\n",
        "lin2 = LinearRegression()\n",
        "lin2.fit(x_poly, y_test)\n",
        "pred=lin2.predict(poly.fit_transform(x_test))\n",
        "print(pred)"
      ],
      "metadata": {
        "colab": {
          "base_uri": "https://localhost:8080/"
        },
        "id": "43y7WlCHj9D5",
        "outputId": "bab20a01-a193-4eb4-e729-c437c7639036"
      },
      "execution_count": null,
      "outputs": [
        {
          "output_type": "stream",
          "name": "stdout",
          "text": [
            "[[ 1.91167251 49.03272008]\n",
            " [ 2.3140518  68.14315976]\n",
            " [ 1.61286756 52.29525565]\n",
            " ...\n",
            " [ 1.68926622 68.2708992 ]\n",
            " [ 1.71214569 67.39108875]\n",
            " [ 1.75215147 50.46550003]]\n"
          ]
        }
      ]
    },
    {
      "cell_type": "code",
      "source": [
        "lin1=LinearRegression()\n",
        "x_po=poly.fit_transform(x_train)\n",
        "lin1.fit(x_po,y_train)\n",
        "x_pred=lin1.predict(poly.fit_transform(x_train))\n",
        "acc=r2_score(y_train,x_pred)\n",
        "print(acc)\n",
        "acc=r2_score(y_test,pred)\n",
        "b=100*acc\n",
        "print(acc)"
      ],
      "metadata": {
        "colab": {
          "base_uri": "https://localhost:8080/"
        },
        "id": "TfIK-lZ-m8Z7",
        "outputId": "514b3108-a2de-4ef9-b8b2-d3d519a0ef0a"
      },
      "execution_count": null,
      "outputs": [
        {
          "output_type": "stream",
          "name": "stdout",
          "text": [
            "0.8319446003910114\n",
            "0.8676952363353143\n"
          ]
        }
      ]
    },
    {
      "cell_type": "code",
      "source": [
        "import tensorflow as tf\n",
        "ann=tf.keras.models.Sequential()\n",
        "ann.add(tf.keras.layers.Dense(units=32, activation='relu'))\n",
        "ann.add(tf.keras.layers.Dense(units = 32,activation='relu'))\n",
        "ann.add(tf.keras.layers.Dense(units=2))"
      ],
      "metadata": {
        "id": "LIvQ3ju4oDZO"
      },
      "execution_count": null,
      "outputs": []
    },
    {
      "cell_type": "code",
      "source": [
        "ann.compile(optimizer='adam',loss='mean_squared_error',metrics=['mean_absolute_error'])"
      ],
      "metadata": {
        "id": "3P9luJS4oMBY"
      },
      "execution_count": null,
      "outputs": []
    },
    {
      "cell_type": "code",
      "source": [
        "ann.fit(x_train,y_train,batch_size=32,epochs=200)"
      ],
      "metadata": {
        "colab": {
          "base_uri": "https://localhost:8080/"
        },
        "id": "Gouq_lJ3oOlP",
        "outputId": "c87eb01c-175e-4b57-f254-c5ea043ff3dc"
      },
      "execution_count": null,
      "outputs": [
        {
          "output_type": "stream",
          "name": "stdout",
          "text": [
            "Epoch 1/200\n",
            "919/919 [==============================] - 1s 1ms/step - loss: 10.9669 - mean_absolute_error: 1.8866\n",
            "Epoch 2/200\n",
            "919/919 [==============================] - 1s 1ms/step - loss: 10.9020 - mean_absolute_error: 1.8773\n",
            "Epoch 3/200\n",
            "919/919 [==============================] - 1s 1ms/step - loss: 10.9564 - mean_absolute_error: 1.8809\n",
            "Epoch 4/200\n",
            "919/919 [==============================] - 1s 1ms/step - loss: 10.9735 - mean_absolute_error: 1.8782\n",
            "Epoch 5/200\n",
            "919/919 [==============================] - 1s 1ms/step - loss: 10.9653 - mean_absolute_error: 1.8779\n",
            "Epoch 6/200\n",
            "919/919 [==============================] - 1s 1ms/step - loss: 10.9063 - mean_absolute_error: 1.8771\n",
            "Epoch 7/200\n",
            "919/919 [==============================] - 1s 1ms/step - loss: 10.8764 - mean_absolute_error: 1.8717\n",
            "Epoch 8/200\n",
            "919/919 [==============================] - 1s 1ms/step - loss: 10.9153 - mean_absolute_error: 1.8740\n",
            "Epoch 9/200\n",
            "919/919 [==============================] - 1s 1ms/step - loss: 10.9226 - mean_absolute_error: 1.8768\n",
            "Epoch 10/200\n",
            "919/919 [==============================] - 1s 1ms/step - loss: 10.9629 - mean_absolute_error: 1.8810\n",
            "Epoch 11/200\n",
            "919/919 [==============================] - 1s 1ms/step - loss: 10.8980 - mean_absolute_error: 1.8766\n",
            "Epoch 12/200\n",
            "919/919 [==============================] - 1s 1ms/step - loss: 10.8968 - mean_absolute_error: 1.8768\n",
            "Epoch 13/200\n",
            "919/919 [==============================] - 1s 1ms/step - loss: 10.8546 - mean_absolute_error: 1.8755\n",
            "Epoch 14/200\n",
            "919/919 [==============================] - 1s 1ms/step - loss: 10.8428 - mean_absolute_error: 1.8702\n",
            "Epoch 15/200\n",
            "919/919 [==============================] - 1s 1ms/step - loss: 10.8556 - mean_absolute_error: 1.8715\n",
            "Epoch 16/200\n",
            "919/919 [==============================] - 1s 1ms/step - loss: 10.8348 - mean_absolute_error: 1.8715\n",
            "Epoch 17/200\n",
            "919/919 [==============================] - 1s 1ms/step - loss: 10.8292 - mean_absolute_error: 1.8725\n",
            "Epoch 18/200\n",
            "919/919 [==============================] - 1s 1ms/step - loss: 10.8166 - mean_absolute_error: 1.8691\n",
            "Epoch 19/200\n",
            "919/919 [==============================] - 1s 1ms/step - loss: 10.7736 - mean_absolute_error: 1.8661\n",
            "Epoch 20/200\n",
            "919/919 [==============================] - 1s 1ms/step - loss: 10.8222 - mean_absolute_error: 1.8677\n",
            "Epoch 21/200\n",
            "919/919 [==============================] - 1s 1ms/step - loss: 10.7791 - mean_absolute_error: 1.8637\n",
            "Epoch 22/200\n",
            "919/919 [==============================] - 1s 1ms/step - loss: 10.8050 - mean_absolute_error: 1.8668\n",
            "Epoch 23/200\n",
            "919/919 [==============================] - 1s 1ms/step - loss: 10.6844 - mean_absolute_error: 1.8550\n",
            "Epoch 24/200\n",
            "919/919 [==============================] - 1s 1ms/step - loss: 10.7597 - mean_absolute_error: 1.8617\n",
            "Epoch 25/200\n",
            "919/919 [==============================] - 1s 1ms/step - loss: 10.6953 - mean_absolute_error: 1.8592\n",
            "Epoch 26/200\n",
            "919/919 [==============================] - 1s 1ms/step - loss: 10.7283 - mean_absolute_error: 1.8586\n",
            "Epoch 27/200\n",
            "919/919 [==============================] - 1s 1ms/step - loss: 10.6592 - mean_absolute_error: 1.8538\n",
            "Epoch 28/200\n",
            "919/919 [==============================] - 1s 1ms/step - loss: 10.6414 - mean_absolute_error: 1.8508\n",
            "Epoch 29/200\n",
            "919/919 [==============================] - 1s 1ms/step - loss: 10.6836 - mean_absolute_error: 1.8556\n",
            "Epoch 30/200\n",
            "919/919 [==============================] - 1s 1ms/step - loss: 10.6476 - mean_absolute_error: 1.8571\n",
            "Epoch 31/200\n",
            "919/919 [==============================] - 1s 1ms/step - loss: 10.6164 - mean_absolute_error: 1.8491\n",
            "Epoch 32/200\n",
            "919/919 [==============================] - 1s 1ms/step - loss: 10.7045 - mean_absolute_error: 1.8585\n",
            "Epoch 33/200\n",
            "919/919 [==============================] - 1s 1ms/step - loss: 10.5320 - mean_absolute_error: 1.8424\n",
            "Epoch 34/200\n",
            "919/919 [==============================] - 1s 1ms/step - loss: 10.5672 - mean_absolute_error: 1.8431\n",
            "Epoch 35/200\n",
            "919/919 [==============================] - 1s 1ms/step - loss: 10.5416 - mean_absolute_error: 1.8413\n",
            "Epoch 36/200\n",
            "919/919 [==============================] - 1s 1ms/step - loss: 10.5118 - mean_absolute_error: 1.8408\n",
            "Epoch 37/200\n",
            "919/919 [==============================] - 1s 1ms/step - loss: 10.5376 - mean_absolute_error: 1.8411\n",
            "Epoch 38/200\n",
            "919/919 [==============================] - 1s 1ms/step - loss: 10.4890 - mean_absolute_error: 1.8375\n",
            "Epoch 39/200\n",
            "919/919 [==============================] - 1s 1ms/step - loss: 10.4798 - mean_absolute_error: 1.8374\n",
            "Epoch 40/200\n",
            "919/919 [==============================] - 1s 1ms/step - loss: 10.4974 - mean_absolute_error: 1.8400\n",
            "Epoch 41/200\n",
            "919/919 [==============================] - 1s 1ms/step - loss: 10.4879 - mean_absolute_error: 1.8404\n",
            "Epoch 42/200\n",
            "919/919 [==============================] - 1s 1ms/step - loss: 10.4126 - mean_absolute_error: 1.8340\n",
            "Epoch 43/200\n",
            "919/919 [==============================] - 1s 1ms/step - loss: 10.4576 - mean_absolute_error: 1.8364\n",
            "Epoch 44/200\n",
            "919/919 [==============================] - 1s 1ms/step - loss: 10.4030 - mean_absolute_error: 1.8338\n",
            "Epoch 45/200\n",
            "919/919 [==============================] - 1s 1ms/step - loss: 10.3900 - mean_absolute_error: 1.8332\n",
            "Epoch 46/200\n",
            "919/919 [==============================] - 1s 1ms/step - loss: 10.4386 - mean_absolute_error: 1.8398\n",
            "Epoch 47/200\n",
            "919/919 [==============================] - 1s 1ms/step - loss: 10.3653 - mean_absolute_error: 1.8306\n",
            "Epoch 48/200\n",
            "919/919 [==============================] - 1s 1ms/step - loss: 10.3432 - mean_absolute_error: 1.8284\n",
            "Epoch 49/200\n",
            "919/919 [==============================] - 1s 1ms/step - loss: 10.3728 - mean_absolute_error: 1.8334\n",
            "Epoch 50/200\n",
            "919/919 [==============================] - 1s 1ms/step - loss: 10.3667 - mean_absolute_error: 1.8279\n",
            "Epoch 51/200\n",
            "919/919 [==============================] - 1s 1ms/step - loss: 10.3687 - mean_absolute_error: 1.8341\n",
            "Epoch 52/200\n",
            "919/919 [==============================] - 1s 1ms/step - loss: 10.3173 - mean_absolute_error: 1.8294\n",
            "Epoch 53/200\n",
            "919/919 [==============================] - 1s 1ms/step - loss: 10.3498 - mean_absolute_error: 1.8348\n",
            "Epoch 54/200\n",
            "919/919 [==============================] - 1s 1ms/step - loss: 10.3320 - mean_absolute_error: 1.8303\n",
            "Epoch 55/200\n",
            "919/919 [==============================] - 1s 1ms/step - loss: 10.2747 - mean_absolute_error: 1.8215\n",
            "Epoch 56/200\n",
            "919/919 [==============================] - 1s 1ms/step - loss: 10.2720 - mean_absolute_error: 1.8236\n",
            "Epoch 57/200\n",
            "919/919 [==============================] - 1s 1ms/step - loss: 10.2372 - mean_absolute_error: 1.8221\n",
            "Epoch 58/200\n",
            "919/919 [==============================] - 1s 1ms/step - loss: 10.2018 - mean_absolute_error: 1.8183\n",
            "Epoch 59/200\n",
            "919/919 [==============================] - 1s 1ms/step - loss: 10.2151 - mean_absolute_error: 1.8152\n",
            "Epoch 60/200\n",
            "919/919 [==============================] - 1s 1ms/step - loss: 10.2197 - mean_absolute_error: 1.8188\n",
            "Epoch 61/200\n",
            "919/919 [==============================] - 1s 1ms/step - loss: 10.1477 - mean_absolute_error: 1.8118\n",
            "Epoch 62/200\n",
            "919/919 [==============================] - 1s 1ms/step - loss: 10.2030 - mean_absolute_error: 1.8177\n",
            "Epoch 63/200\n",
            "919/919 [==============================] - 1s 1ms/step - loss: 10.1867 - mean_absolute_error: 1.8202\n",
            "Epoch 64/200\n",
            "919/919 [==============================] - 1s 1ms/step - loss: 10.2056 - mean_absolute_error: 1.8198\n",
            "Epoch 65/200\n",
            "919/919 [==============================] - 1s 1ms/step - loss: 10.1786 - mean_absolute_error: 1.8217\n",
            "Epoch 66/200\n",
            "919/919 [==============================] - 1s 1ms/step - loss: 10.1140 - mean_absolute_error: 1.8116\n",
            "Epoch 67/200\n",
            "919/919 [==============================] - 1s 1ms/step - loss: 10.1431 - mean_absolute_error: 1.8149\n",
            "Epoch 68/200\n",
            "919/919 [==============================] - 1s 1ms/step - loss: 10.1952 - mean_absolute_error: 1.8183\n",
            "Epoch 69/200\n",
            "919/919 [==============================] - 1s 1ms/step - loss: 10.2046 - mean_absolute_error: 1.8204\n",
            "Epoch 70/200\n",
            "919/919 [==============================] - 1s 1ms/step - loss: 10.1425 - mean_absolute_error: 1.8140\n",
            "Epoch 71/200\n",
            "919/919 [==============================] - 1s 1ms/step - loss: 10.1255 - mean_absolute_error: 1.8105\n",
            "Epoch 72/200\n",
            "919/919 [==============================] - 1s 1ms/step - loss: 10.1376 - mean_absolute_error: 1.8154\n",
            "Epoch 73/200\n",
            "919/919 [==============================] - 1s 1ms/step - loss: 10.1186 - mean_absolute_error: 1.8122\n",
            "Epoch 74/200\n",
            "919/919 [==============================] - 1s 1ms/step - loss: 10.0915 - mean_absolute_error: 1.8095\n",
            "Epoch 75/200\n",
            "919/919 [==============================] - 1s 1ms/step - loss: 10.0965 - mean_absolute_error: 1.8077\n",
            "Epoch 76/200\n",
            "919/919 [==============================] - 1s 2ms/step - loss: 10.0907 - mean_absolute_error: 1.8105\n",
            "Epoch 77/200\n",
            "919/919 [==============================] - 1s 1ms/step - loss: 10.0908 - mean_absolute_error: 1.8093\n",
            "Epoch 78/200\n",
            "919/919 [==============================] - 1s 1ms/step - loss: 10.1103 - mean_absolute_error: 1.8096\n",
            "Epoch 79/200\n",
            "919/919 [==============================] - 1s 2ms/step - loss: 10.0624 - mean_absolute_error: 1.8079\n",
            "Epoch 80/200\n",
            "919/919 [==============================] - 1s 2ms/step - loss: 9.9990 - mean_absolute_error: 1.8037\n",
            "Epoch 81/200\n",
            "919/919 [==============================] - 1s 1ms/step - loss: 10.0573 - mean_absolute_error: 1.8059\n",
            "Epoch 82/200\n",
            "919/919 [==============================] - 1s 1ms/step - loss: 10.0320 - mean_absolute_error: 1.8038\n",
            "Epoch 83/200\n",
            "919/919 [==============================] - 1s 1ms/step - loss: 10.0415 - mean_absolute_error: 1.8088\n",
            "Epoch 84/200\n",
            "919/919 [==============================] - 1s 1ms/step - loss: 10.0812 - mean_absolute_error: 1.8078\n",
            "Epoch 85/200\n",
            "919/919 [==============================] - 1s 1ms/step - loss: 10.0590 - mean_absolute_error: 1.8102\n",
            "Epoch 86/200\n",
            "919/919 [==============================] - 1s 1ms/step - loss: 10.0598 - mean_absolute_error: 1.8098\n",
            "Epoch 87/200\n",
            "919/919 [==============================] - 1s 1ms/step - loss: 9.9795 - mean_absolute_error: 1.7999\n",
            "Epoch 88/200\n",
            "919/919 [==============================] - 1s 1ms/step - loss: 9.9833 - mean_absolute_error: 1.8022\n",
            "Epoch 89/200\n",
            "919/919 [==============================] - 1s 1ms/step - loss: 10.0016 - mean_absolute_error: 1.8050\n",
            "Epoch 90/200\n",
            "919/919 [==============================] - 1s 2ms/step - loss: 9.9679 - mean_absolute_error: 1.7960\n",
            "Epoch 91/200\n",
            "919/919 [==============================] - 1s 1ms/step - loss: 9.9452 - mean_absolute_error: 1.7975\n",
            "Epoch 92/200\n",
            "919/919 [==============================] - 1s 1ms/step - loss: 10.0025 - mean_absolute_error: 1.8018\n",
            "Epoch 93/200\n",
            "919/919 [==============================] - 1s 1ms/step - loss: 9.9640 - mean_absolute_error: 1.8006\n",
            "Epoch 94/200\n",
            "919/919 [==============================] - 1s 1ms/step - loss: 9.9887 - mean_absolute_error: 1.8025\n",
            "Epoch 95/200\n",
            "919/919 [==============================] - 1s 1ms/step - loss: 9.9358 - mean_absolute_error: 1.7945\n",
            "Epoch 96/200\n",
            "919/919 [==============================] - 1s 1ms/step - loss: 9.9421 - mean_absolute_error: 1.7984\n",
            "Epoch 97/200\n",
            "919/919 [==============================] - 1s 1ms/step - loss: 10.0119 - mean_absolute_error: 1.8032\n",
            "Epoch 98/200\n",
            "919/919 [==============================] - 1s 1ms/step - loss: 9.9218 - mean_absolute_error: 1.7929\n",
            "Epoch 99/200\n",
            "919/919 [==============================] - 1s 1ms/step - loss: 9.9307 - mean_absolute_error: 1.7951\n",
            "Epoch 100/200\n",
            "919/919 [==============================] - 1s 1ms/step - loss: 9.9491 - mean_absolute_error: 1.7927\n",
            "Epoch 101/200\n",
            "919/919 [==============================] - 1s 2ms/step - loss: 9.9539 - mean_absolute_error: 1.7947\n",
            "Epoch 102/200\n",
            "919/919 [==============================] - 1s 1ms/step - loss: 9.9373 - mean_absolute_error: 1.7954\n",
            "Epoch 103/200\n",
            "919/919 [==============================] - 1s 1ms/step - loss: 9.9518 - mean_absolute_error: 1.7970\n",
            "Epoch 104/200\n",
            "919/919 [==============================] - 1s 1ms/step - loss: 9.8944 - mean_absolute_error: 1.7940\n",
            "Epoch 105/200\n",
            "919/919 [==============================] - 1s 1ms/step - loss: 9.8900 - mean_absolute_error: 1.7922\n",
            "Epoch 106/200\n",
            "919/919 [==============================] - 1s 1ms/step - loss: 9.9159 - mean_absolute_error: 1.7984\n",
            "Epoch 107/200\n",
            "919/919 [==============================] - 1s 1ms/step - loss: 9.9399 - mean_absolute_error: 1.7953\n",
            "Epoch 108/200\n",
            "919/919 [==============================] - 1s 1ms/step - loss: 9.8799 - mean_absolute_error: 1.7876\n",
            "Epoch 109/200\n",
            "919/919 [==============================] - 1s 2ms/step - loss: 9.8957 - mean_absolute_error: 1.7912\n",
            "Epoch 110/200\n",
            "919/919 [==============================] - 1s 1ms/step - loss: 9.9309 - mean_absolute_error: 1.7982\n",
            "Epoch 111/200\n",
            "919/919 [==============================] - 1s 1ms/step - loss: 9.9223 - mean_absolute_error: 1.7966\n",
            "Epoch 112/200\n",
            "919/919 [==============================] - 1s 1ms/step - loss: 9.8644 - mean_absolute_error: 1.7857\n",
            "Epoch 113/200\n",
            "919/919 [==============================] - 1s 1ms/step - loss: 9.8819 - mean_absolute_error: 1.7927\n",
            "Epoch 114/200\n",
            "919/919 [==============================] - 1s 1ms/step - loss: 9.8234 - mean_absolute_error: 1.7822\n",
            "Epoch 115/200\n",
            "919/919 [==============================] - 1s 1ms/step - loss: 9.8557 - mean_absolute_error: 1.7898\n",
            "Epoch 116/200\n",
            "919/919 [==============================] - 1s 1ms/step - loss: 9.8842 - mean_absolute_error: 1.7935\n",
            "Epoch 117/200\n",
            "919/919 [==============================] - 1s 1ms/step - loss: 9.8747 - mean_absolute_error: 1.7896\n",
            "Epoch 118/200\n",
            "919/919 [==============================] - 1s 1ms/step - loss: 9.8785 - mean_absolute_error: 1.7911\n",
            "Epoch 119/200\n",
            "919/919 [==============================] - 1s 1ms/step - loss: 9.8648 - mean_absolute_error: 1.7922\n",
            "Epoch 120/200\n",
            "919/919 [==============================] - 1s 1ms/step - loss: 9.8237 - mean_absolute_error: 1.7869\n",
            "Epoch 121/200\n",
            "919/919 [==============================] - 1s 2ms/step - loss: 9.8421 - mean_absolute_error: 1.7864\n",
            "Epoch 122/200\n",
            "919/919 [==============================] - 1s 1ms/step - loss: 9.8617 - mean_absolute_error: 1.7879\n",
            "Epoch 123/200\n",
            "919/919 [==============================] - 1s 1ms/step - loss: 9.8572 - mean_absolute_error: 1.7971\n",
            "Epoch 124/200\n",
            "919/919 [==============================] - 1s 1ms/step - loss: 9.8281 - mean_absolute_error: 1.7913\n",
            "Epoch 125/200\n",
            "919/919 [==============================] - 1s 1ms/step - loss: 9.8542 - mean_absolute_error: 1.7859\n",
            "Epoch 126/200\n",
            "919/919 [==============================] - 1s 1ms/step - loss: 9.8472 - mean_absolute_error: 1.7894\n",
            "Epoch 127/200\n",
            "919/919 [==============================] - 1s 1ms/step - loss: 9.8157 - mean_absolute_error: 1.7827\n",
            "Epoch 128/200\n",
            "919/919 [==============================] - 1s 1ms/step - loss: 9.8594 - mean_absolute_error: 1.7938\n",
            "Epoch 129/200\n",
            "919/919 [==============================] - 1s 1ms/step - loss: 9.8447 - mean_absolute_error: 1.7902\n",
            "Epoch 130/200\n",
            "919/919 [==============================] - 1s 1ms/step - loss: 9.8267 - mean_absolute_error: 1.7818\n",
            "Epoch 131/200\n",
            "919/919 [==============================] - 1s 1ms/step - loss: 9.8126 - mean_absolute_error: 1.7837\n",
            "Epoch 132/200\n",
            "919/919 [==============================] - 1s 1ms/step - loss: 9.7810 - mean_absolute_error: 1.7823\n",
            "Epoch 133/200\n",
            "919/919 [==============================] - 1s 1ms/step - loss: 9.7754 - mean_absolute_error: 1.7832\n",
            "Epoch 134/200\n",
            "919/919 [==============================] - 1s 1ms/step - loss: 9.8153 - mean_absolute_error: 1.7864\n",
            "Epoch 135/200\n",
            "919/919 [==============================] - 1s 1ms/step - loss: 9.7986 - mean_absolute_error: 1.7846\n",
            "Epoch 136/200\n",
            "919/919 [==============================] - 1s 1ms/step - loss: 9.8026 - mean_absolute_error: 1.7816\n",
            "Epoch 137/200\n",
            "919/919 [==============================] - 1s 1ms/step - loss: 9.8461 - mean_absolute_error: 1.7942\n",
            "Epoch 138/200\n",
            "919/919 [==============================] - 1s 1ms/step - loss: 9.7836 - mean_absolute_error: 1.7816\n",
            "Epoch 139/200\n",
            "919/919 [==============================] - 1s 1ms/step - loss: 9.7976 - mean_absolute_error: 1.7864\n",
            "Epoch 140/200\n",
            "919/919 [==============================] - 1s 1ms/step - loss: 9.8222 - mean_absolute_error: 1.7879\n",
            "Epoch 141/200\n",
            "919/919 [==============================] - 1s 1ms/step - loss: 9.7822 - mean_absolute_error: 1.7865\n",
            "Epoch 142/200\n",
            "919/919 [==============================] - 1s 1ms/step - loss: 9.8077 - mean_absolute_error: 1.7836\n",
            "Epoch 143/200\n",
            "919/919 [==============================] - 1s 1ms/step - loss: 9.8171 - mean_absolute_error: 1.7821\n",
            "Epoch 144/200\n",
            "919/919 [==============================] - 1s 2ms/step - loss: 9.8014 - mean_absolute_error: 1.7827\n",
            "Epoch 145/200\n",
            "919/919 [==============================] - 1s 2ms/step - loss: 9.7888 - mean_absolute_error: 1.7819\n",
            "Epoch 146/200\n",
            "919/919 [==============================] - 1s 2ms/step - loss: 9.8149 - mean_absolute_error: 1.7852\n",
            "Epoch 147/200\n",
            "919/919 [==============================] - 1s 1ms/step - loss: 9.7808 - mean_absolute_error: 1.7822\n",
            "Epoch 148/200\n",
            "919/919 [==============================] - 1s 1ms/step - loss: 9.7751 - mean_absolute_error: 1.7837\n",
            "Epoch 149/200\n",
            "919/919 [==============================] - 1s 1ms/step - loss: 9.8480 - mean_absolute_error: 1.7913\n",
            "Epoch 150/200\n",
            "919/919 [==============================] - 1s 1ms/step - loss: 9.8020 - mean_absolute_error: 1.7834\n",
            "Epoch 151/200\n",
            "919/919 [==============================] - 1s 1ms/step - loss: 9.7602 - mean_absolute_error: 1.7780\n",
            "Epoch 152/200\n",
            "919/919 [==============================] - 1s 2ms/step - loss: 9.7770 - mean_absolute_error: 1.7824\n",
            "Epoch 153/200\n",
            "919/919 [==============================] - 1s 1ms/step - loss: 9.7245 - mean_absolute_error: 1.7790\n",
            "Epoch 154/200\n",
            "919/919 [==============================] - 1s 1ms/step - loss: 9.7699 - mean_absolute_error: 1.7822\n",
            "Epoch 155/200\n",
            "919/919 [==============================] - 1s 1ms/step - loss: 9.6824 - mean_absolute_error: 1.7695\n",
            "Epoch 156/200\n",
            "919/919 [==============================] - 1s 1ms/step - loss: 9.7483 - mean_absolute_error: 1.7801\n",
            "Epoch 157/200\n",
            "919/919 [==============================] - 1s 1ms/step - loss: 9.7542 - mean_absolute_error: 1.7834\n",
            "Epoch 158/200\n",
            "919/919 [==============================] - 1s 1ms/step - loss: 9.6855 - mean_absolute_error: 1.7748\n",
            "Epoch 159/200\n",
            "919/919 [==============================] - 1s 1ms/step - loss: 9.7896 - mean_absolute_error: 1.7835\n",
            "Epoch 160/200\n",
            "919/919 [==============================] - 1s 1ms/step - loss: 9.7102 - mean_absolute_error: 1.7767\n",
            "Epoch 161/200\n",
            "919/919 [==============================] - 1s 1ms/step - loss: 9.7407 - mean_absolute_error: 1.7840\n",
            "Epoch 162/200\n",
            "919/919 [==============================] - 1s 2ms/step - loss: 9.8098 - mean_absolute_error: 1.7909\n",
            "Epoch 163/200\n",
            "919/919 [==============================] - 1s 1ms/step - loss: 9.6984 - mean_absolute_error: 1.7751\n",
            "Epoch 164/200\n",
            "919/919 [==============================] - 1s 1ms/step - loss: 9.7090 - mean_absolute_error: 1.7751\n",
            "Epoch 165/200\n",
            "919/919 [==============================] - 1s 1ms/step - loss: 9.6730 - mean_absolute_error: 1.7744\n",
            "Epoch 166/200\n",
            "919/919 [==============================] - 1s 1ms/step - loss: 9.7219 - mean_absolute_error: 1.7780\n",
            "Epoch 167/200\n",
            "919/919 [==============================] - 1s 1ms/step - loss: 9.7657 - mean_absolute_error: 1.7847\n",
            "Epoch 168/200\n",
            "919/919 [==============================] - 1s 1ms/step - loss: 9.6992 - mean_absolute_error: 1.7818\n",
            "Epoch 169/200\n",
            "919/919 [==============================] - 1s 2ms/step - loss: 9.6544 - mean_absolute_error: 1.7719\n",
            "Epoch 170/200\n",
            "919/919 [==============================] - 1s 2ms/step - loss: 9.7113 - mean_absolute_error: 1.7742\n",
            "Epoch 171/200\n",
            "919/919 [==============================] - 1s 2ms/step - loss: 9.7165 - mean_absolute_error: 1.7812\n",
            "Epoch 172/200\n",
            "919/919 [==============================] - 1s 1ms/step - loss: 9.6839 - mean_absolute_error: 1.7727\n",
            "Epoch 173/200\n",
            "919/919 [==============================] - 1s 1ms/step - loss: 9.6806 - mean_absolute_error: 1.7765\n",
            "Epoch 174/200\n",
            "919/919 [==============================] - 1s 1ms/step - loss: 9.7032 - mean_absolute_error: 1.7784\n",
            "Epoch 175/200\n",
            "919/919 [==============================] - 1s 1ms/step - loss: 9.7075 - mean_absolute_error: 1.7778\n",
            "Epoch 176/200\n",
            "919/919 [==============================] - 1s 1ms/step - loss: 9.7033 - mean_absolute_error: 1.7783\n",
            "Epoch 177/200\n",
            "919/919 [==============================] - 1s 1ms/step - loss: 9.6230 - mean_absolute_error: 1.7678\n",
            "Epoch 178/200\n",
            "919/919 [==============================] - 1s 1ms/step - loss: 9.6648 - mean_absolute_error: 1.7736\n",
            "Epoch 179/200\n",
            "919/919 [==============================] - 1s 1ms/step - loss: 9.7011 - mean_absolute_error: 1.7775\n",
            "Epoch 180/200\n",
            "919/919 [==============================] - 1s 1ms/step - loss: 9.6753 - mean_absolute_error: 1.7733\n",
            "Epoch 181/200\n",
            "919/919 [==============================] - 1s 1ms/step - loss: 9.7053 - mean_absolute_error: 1.7771\n",
            "Epoch 182/200\n",
            "919/919 [==============================] - 1s 1ms/step - loss: 9.6716 - mean_absolute_error: 1.7750\n",
            "Epoch 183/200\n",
            "919/919 [==============================] - 1s 2ms/step - loss: 9.6581 - mean_absolute_error: 1.7733\n",
            "Epoch 184/200\n",
            "919/919 [==============================] - 1s 1ms/step - loss: 9.7069 - mean_absolute_error: 1.7742\n",
            "Epoch 185/200\n",
            "919/919 [==============================] - 1s 2ms/step - loss: 9.7090 - mean_absolute_error: 1.7779\n",
            "Epoch 186/200\n",
            "919/919 [==============================] - 1s 2ms/step - loss: 9.6757 - mean_absolute_error: 1.7741\n",
            "Epoch 187/200\n",
            "919/919 [==============================] - 1s 2ms/step - loss: 9.6461 - mean_absolute_error: 1.7699\n",
            "Epoch 188/200\n",
            "919/919 [==============================] - 1s 2ms/step - loss: 9.6657 - mean_absolute_error: 1.7717\n",
            "Epoch 189/200\n",
            "919/919 [==============================] - 1s 1ms/step - loss: 9.6669 - mean_absolute_error: 1.7703\n",
            "Epoch 190/200\n",
            "919/919 [==============================] - 1s 1ms/step - loss: 9.6665 - mean_absolute_error: 1.7745\n",
            "Epoch 191/200\n",
            "919/919 [==============================] - 1s 1ms/step - loss: 9.6743 - mean_absolute_error: 1.7741\n",
            "Epoch 192/200\n",
            "919/919 [==============================] - 1s 1ms/step - loss: 9.6040 - mean_absolute_error: 1.7711\n",
            "Epoch 193/200\n",
            "919/919 [==============================] - 1s 1ms/step - loss: 9.6815 - mean_absolute_error: 1.7764\n",
            "Epoch 194/200\n",
            "919/919 [==============================] - 1s 1ms/step - loss: 9.6208 - mean_absolute_error: 1.7713\n",
            "Epoch 195/200\n",
            "919/919 [==============================] - 1s 2ms/step - loss: 9.6506 - mean_absolute_error: 1.7677\n",
            "Epoch 196/200\n",
            "919/919 [==============================] - 1s 1ms/step - loss: 9.6729 - mean_absolute_error: 1.7765\n",
            "Epoch 197/200\n",
            "919/919 [==============================] - 1s 2ms/step - loss: 9.6357 - mean_absolute_error: 1.7699\n",
            "Epoch 198/200\n",
            "919/919 [==============================] - 1s 1ms/step - loss: 9.6389 - mean_absolute_error: 1.7705\n",
            "Epoch 199/200\n",
            "919/919 [==============================] - 1s 1ms/step - loss: 9.5846 - mean_absolute_error: 1.7640\n",
            "Epoch 200/200\n",
            "919/919 [==============================] - 1s 2ms/step - loss: 9.6240 - mean_absolute_error: 1.7692\n"
          ]
        },
        {
          "output_type": "execute_result",
          "data": {
            "text/plain": [
              "<keras.callbacks.History at 0x7ff143fe8390>"
            ]
          },
          "metadata": {},
          "execution_count": 145
        }
      ]
    },
    {
      "cell_type": "code",
      "source": [
        "y_pred=ann.predict(x_test)\n",
        "mse=mean_squared_error(y_test,y_pred)\n",
        "print(f'MSE: {mse}')\n",
        "print(f'RMSE: {np.sqrt(mse)}')\n",
        "print(f'R_square: {r2_score(y_test,y_pred)}')\n",
        "c=100*r2_score(y_test,y_pred)\n"
      ],
      "metadata": {
        "colab": {
          "base_uri": "https://localhost:8080/"
        },
        "id": "DX6cmpUuool_",
        "outputId": "4e31c755-fce4-4d2e-8e4c-780ec292cda7"
      },
      "execution_count": null,
      "outputs": [
        {
          "output_type": "stream",
          "name": "stdout",
          "text": [
            "MSE: 11.174946415532187\n",
            "RMSE: 3.3428949154186984\n",
            "R_square: 0.7638548129777634\n"
          ]
        }
      ]
    },
    {
      "cell_type": "code",
      "source": [
        "y_pred=ann.predict(x_test)\n",
        "print(y_pred)"
      ],
      "metadata": {
        "colab": {
          "base_uri": "https://localhost:8080/"
        },
        "id": "-rQ4SHY8o4Dt",
        "outputId": "5e740ceb-4e86-4260-e664-93e0666dcb8b"
      },
      "execution_count": null,
      "outputs": [
        {
          "output_type": "stream",
          "name": "stdout",
          "text": [
            "[[ 2.2482867 48.806236 ]\n",
            " [ 3.27566   67.6364   ]\n",
            " [ 2.4854298 58.444176 ]\n",
            " ...\n",
            " [ 1.1423942 67.52306  ]\n",
            " [ 1.2030288 65.46914  ]\n",
            " [ 1.6654245 51.418488 ]]\n"
          ]
        }
      ]
    },
    {
      "cell_type": "code",
      "source": [
        "pred=ann.predict(scaler.transform([[ 9.5,1015.7,82.518,4.61,32.218,1099.8,530.75,160.84,13.913 ]]))\n",
        "print(pred)"
      ],
      "metadata": {
        "colab": {
          "base_uri": "https://localhost:8080/"
        },
        "id": "pMb0mMd6qPEw",
        "outputId": "21be5cc3-8a05-4133-c17e-b60a5f0dacd9"
      },
      "execution_count": null,
      "outputs": [
        {
          "output_type": "stream",
          "name": "stdout",
          "text": [
            "[[ 1.1949164 66.50924  ]]\n"
          ]
        },
        {
          "output_type": "stream",
          "name": "stderr",
          "text": [
            "/usr/local/lib/python3.7/dist-packages/sklearn/base.py:446: UserWarning: X does not have valid feature names, but StandardScaler was fitted with feature names\n",
            "  \"X does not have valid feature names, but\"\n"
          ]
        }
      ]
    },
    {
      "cell_type": "code",
      "source": [
        "predictors_group = ('Linear Reg', 'Polynomial Reg', 'ANN')\n",
        "x_pos = np.arange(len(predictors_group))\n",
        "accuracies1 = [a, b, c]\n",
        "    \n",
        "plt.bar(x_pos, accuracies1, align='center', alpha=0.5, color='purple')\n",
        "plt.xticks(x_pos, predictors_group, rotation='vertical')\n",
        "plt.ylabel('Accuracy (%)')\n",
        "plt.title('Regressor Accuracies')\n",
        "plt.show()"
      ],
      "metadata": {
        "colab": {
          "base_uri": "https://localhost:8080/",
          "height": 347
        },
        "id": "QaEPWB9vo4PX",
        "outputId": "c9acfccc-23a9-4e70-abad-5138583431fd"
      },
      "execution_count": null,
      "outputs": [
        {
          "output_type": "display_data",
          "data": {
            "image/png": "[encoded data removed]",
            "text/plain": [
              "<Figure size 432x288 with 1 Axes>"
            ]
          },
          "metadata": {
            "needs_background": "light"
          }
        }
      ]
    }
  ]
}